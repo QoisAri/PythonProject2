{
  "nbformat": 4,
  "nbformat_minor": 0,
  "metadata": {
    "colab": {
      "provenance": [],
      "gpuType": "T4"
    },
    "kernelspec": {
      "name": "python3",
      "display_name": "Python 3"
    },
    "language_info": {
      "name": "python"
    },
    "accelerator": "GPU"
  },
  "cells": [
    {
      "cell_type": "code",
      "execution_count": 5,
      "metadata": {
        "colab": {
          "base_uri": "https://localhost:8080/"
        },
        "id": "96yz58tnA-Ap",
        "outputId": "1883a8fd-2d76-4b70-d002-7f1887cb2c19"
      },
      "outputs": [
        {
          "output_type": "execute_result",
          "data": {
            "text/plain": [
              "['dataset_padang_food']"
            ]
          },
          "metadata": {},
          "execution_count": 5
        }
      ],
      "source": [
        "import zipfile\n",
        "import os\n",
        "\n",
        "# Path to the uploaded zip file\n",
        "zip_file_path = '/content/padang.zip'\n",
        "extracted_folder_path = '/mnt/data/padang'\n",
        "\n",
        "# Extract the contents of the zip file\n",
        "with zipfile.ZipFile(zip_file_path, 'r') as zip_ref:\n",
        "    zip_ref.extractall(extracted_folder_path)\n",
        "\n",
        "# List the extracted files to see the contents\n",
        "extracted_files = os.listdir(extracted_folder_path)\n",
        "extracted_files\n"
      ]
    },
    {
      "cell_type": "code",
      "source": [
        "# Listing the contents of the dataset_padang_food directory\n",
        "dataset_folder_path = os.path.join(extracted_folder_path, 'dataset_padang_food')\n",
        "dataset_contents = os.listdir(dataset_folder_path)\n",
        "dataset_contents"
      ],
      "metadata": {
        "colab": {
          "base_uri": "https://localhost:8080/"
        },
        "id": "YNdeaSSZCLW4",
        "outputId": "b36ecf6d-64dc-404c-8435-ed6ee86ace9c"
      },
      "execution_count": 6,
      "outputs": [
        {
          "output_type": "execute_result",
          "data": {
            "text/plain": [
              "['gulai_ikan',\n",
              " 'dendeng_batokok',\n",
              " 'gulai_tunjang',\n",
              " 'ayam_pop',\n",
              " 'telur_balado',\n",
              " 'gulai_tambusu',\n",
              " 'telur_dadar',\n",
              " 'ayam_goreng',\n",
              " 'daging_rendang']"
            ]
          },
          "metadata": {},
          "execution_count": 6
        }
      ]
    },
    {
      "cell_type": "code",
      "source": [
        "import tensorflow as tf\n",
        "from tensorflow.keras.preprocessing.image import ImageDataGenerator\n",
        "import os\n",
        "\n",
        "# Set paths\n",
        "base_dir = '/mnt/data/padang/dataset_padang_food'\n",
        "\n",
        "# Parameters\n",
        "img_height, img_width = 150, 150\n",
        "batch_size = 32\n",
        "\n",
        "# Data augmentation and normalization\n",
        "train_datagen = ImageDataGenerator(\n",
        "    rescale=1./255,\n",
        "    shear_range=0.2,\n",
        "    zoom_range=0.2,\n",
        "    horizontal_flip=True,\n",
        "    validation_split=0.2)  # 20% validation split\n",
        "\n",
        "train_generator = train_datagen.flow_from_directory(\n",
        "    base_dir,\n",
        "    target_size=(img_height, img_width),\n",
        "    batch_size=batch_size,\n",
        "    class_mode='categorical',\n",
        "    subset='training')  # Set as training data\n",
        "\n",
        "validation_generator = train_datagen.flow_from_directory(\n",
        "    base_dir,\n",
        "    target_size=(img_height, img_width),\n",
        "    batch_size=batch_size,\n",
        "    class_mode='categorical',\n",
        "    subset='validation')  # Set as validation data"
      ],
      "metadata": {
        "colab": {
          "base_uri": "https://localhost:8080/"
        },
        "id": "tQbUAODsCNuE",
        "outputId": "7fc735e6-1dc6-48e4-9df0-1822fdd4a222"
      },
      "execution_count": 7,
      "outputs": [
        {
          "output_type": "stream",
          "name": "stdout",
          "text": [
            "Found 799 images belonging to 9 classes.\n",
            "Found 194 images belonging to 9 classes.\n"
          ]
        }
      ]
    },
    {
      "cell_type": "code",
      "source": [
        "from tensorflow.keras.models import Sequential\n",
        "from tensorflow.keras.layers import Conv2D, MaxPooling2D, Flatten, Dense, Dropout\n",
        "\n",
        "model = Sequential([\n",
        "    Conv2D(32, (3, 3), activation='relu', input_shape=(img_height, img_width, 3)),\n",
        "    MaxPooling2D(pool_size=(2, 2)),\n",
        "\n",
        "    Conv2D(64, (3, 3), activation='relu'),\n",
        "    MaxPooling2D(pool_size=(2, 2)),\n",
        "\n",
        "    Conv2D(128, (3, 3), activation='relu'),\n",
        "    MaxPooling2D(pool_size=(2, 2)),\n",
        "\n",
        "    Flatten(),\n",
        "    Dense(512, activation='relu'),\n",
        "    Dropout(0.5),\n",
        "    Dense(train_generator.num_classes, activation='softmax')\n",
        "])\n",
        "\n",
        "model.compile(optimizer='adam',\n",
        "              loss='categorical_crossentropy',\n",
        "              metrics=['accuracy'])\n",
        "\n",
        "model.summary()"
      ],
      "metadata": {
        "colab": {
          "base_uri": "https://localhost:8080/"
        },
        "id": "pW4exAhUCUgV",
        "outputId": "cf2eb79c-aa33-4402-90cb-08a166d6b727"
      },
      "execution_count": 8,
      "outputs": [
        {
          "output_type": "stream",
          "name": "stdout",
          "text": [
            "Model: \"sequential\"\n",
            "_________________________________________________________________\n",
            " Layer (type)                Output Shape              Param #   \n",
            "=================================================================\n",
            " conv2d (Conv2D)             (None, 148, 148, 32)      896       \n",
            "                                                                 \n",
            " max_pooling2d (MaxPooling2  (None, 74, 74, 32)        0         \n",
            " D)                                                              \n",
            "                                                                 \n",
            " conv2d_1 (Conv2D)           (None, 72, 72, 64)        18496     \n",
            "                                                                 \n",
            " max_pooling2d_1 (MaxPoolin  (None, 36, 36, 64)        0         \n",
            " g2D)                                                            \n",
            "                                                                 \n",
            " conv2d_2 (Conv2D)           (None, 34, 34, 128)       73856     \n",
            "                                                                 \n",
            " max_pooling2d_2 (MaxPoolin  (None, 17, 17, 128)       0         \n",
            " g2D)                                                            \n",
            "                                                                 \n",
            " flatten (Flatten)           (None, 36992)             0         \n",
            "                                                                 \n",
            " dense (Dense)               (None, 512)               18940416  \n",
            "                                                                 \n",
            " dropout (Dropout)           (None, 512)               0         \n",
            "                                                                 \n",
            " dense_1 (Dense)             (None, 9)                 4617      \n",
            "                                                                 \n",
            "=================================================================\n",
            "Total params: 19038281 (72.63 MB)\n",
            "Trainable params: 19038281 (72.63 MB)\n",
            "Non-trainable params: 0 (0.00 Byte)\n",
            "_________________________________________________________________\n"
          ]
        }
      ]
    },
    {
      "cell_type": "code",
      "source": [
        "epochs = 25\n",
        "\n",
        "history = model.fit(\n",
        "    train_generator,\n",
        "    steps_per_epoch=train_generator.samples // batch_size,\n",
        "    validation_data=validation_generator,\n",
        "    validation_steps=validation_generator.samples // batch_size,\n",
        "    epochs=epochs\n",
        ")"
      ],
      "metadata": {
        "colab": {
          "base_uri": "https://localhost:8080/"
        },
        "id": "jY8rrszfCYEY",
        "outputId": "c8676953-d2b5-4964-b628-a78431c6e432"
      },
      "execution_count": 9,
      "outputs": [
        {
          "output_type": "stream",
          "name": "stdout",
          "text": [
            "Epoch 1/25\n",
            "24/24 [==============================] - 16s 413ms/step - loss: 2.6177 - accuracy: 0.1408 - val_loss: 2.1298 - val_accuracy: 0.1354\n",
            "Epoch 2/25\n",
            "24/24 [==============================] - 9s 374ms/step - loss: 2.0076 - accuracy: 0.2425 - val_loss: 1.7825 - val_accuracy: 0.3698\n",
            "Epoch 3/25\n",
            "24/24 [==============================] - 10s 401ms/step - loss: 1.6502 - accuracy: 0.3742 - val_loss: 1.4351 - val_accuracy: 0.4427\n",
            "Epoch 4/25\n",
            "24/24 [==============================] - 10s 434ms/step - loss: 1.4905 - accuracy: 0.4141 - val_loss: 1.2991 - val_accuracy: 0.5104\n",
            "Epoch 5/25\n",
            "24/24 [==============================] - 12s 490ms/step - loss: 1.3325 - accuracy: 0.5072 - val_loss: 1.2382 - val_accuracy: 0.5677\n",
            "Epoch 6/25\n",
            "24/24 [==============================] - 9s 362ms/step - loss: 1.3035 - accuracy: 0.5117 - val_loss: 1.2642 - val_accuracy: 0.4948\n",
            "Epoch 7/25\n",
            "24/24 [==============================] - 9s 378ms/step - loss: 1.2189 - accuracy: 0.5450 - val_loss: 1.1490 - val_accuracy: 0.5938\n",
            "Epoch 8/25\n",
            "24/24 [==============================] - 10s 401ms/step - loss: 1.1496 - accuracy: 0.5867 - val_loss: 1.2513 - val_accuracy: 0.5521\n",
            "Epoch 9/25\n",
            "24/24 [==============================] - 10s 436ms/step - loss: 1.0315 - accuracy: 0.6115 - val_loss: 1.2573 - val_accuracy: 0.5573\n",
            "Epoch 10/25\n",
            "24/24 [==============================] - 12s 498ms/step - loss: 0.9889 - accuracy: 0.6219 - val_loss: 1.0334 - val_accuracy: 0.6406\n",
            "Epoch 11/25\n",
            "24/24 [==============================] - 8s 348ms/step - loss: 0.8407 - accuracy: 0.6910 - val_loss: 1.1212 - val_accuracy: 0.5938\n",
            "Epoch 12/25\n",
            "24/24 [==============================] - 9s 384ms/step - loss: 0.8275 - accuracy: 0.6988 - val_loss: 1.0800 - val_accuracy: 0.6198\n",
            "Epoch 13/25\n",
            "24/24 [==============================] - 10s 412ms/step - loss: 0.8152 - accuracy: 0.6949 - val_loss: 1.0188 - val_accuracy: 0.6302\n",
            "Epoch 14/25\n",
            "24/24 [==============================] - 12s 492ms/step - loss: 0.6972 - accuracy: 0.7396 - val_loss: 1.1157 - val_accuracy: 0.6354\n",
            "Epoch 15/25\n",
            "24/24 [==============================] - 12s 489ms/step - loss: 0.6396 - accuracy: 0.7771 - val_loss: 1.1880 - val_accuracy: 0.6250\n",
            "Epoch 16/25\n",
            "24/24 [==============================] - 9s 358ms/step - loss: 0.6108 - accuracy: 0.7601 - val_loss: 1.2381 - val_accuracy: 0.5833\n",
            "Epoch 17/25\n",
            "24/24 [==============================] - 9s 378ms/step - loss: 0.6331 - accuracy: 0.7784 - val_loss: 1.1096 - val_accuracy: 0.5938\n",
            "Epoch 18/25\n",
            "24/24 [==============================] - 10s 432ms/step - loss: 0.6234 - accuracy: 0.7784 - val_loss: 1.0134 - val_accuracy: 0.6302\n",
            "Epoch 19/25\n",
            "24/24 [==============================] - 10s 408ms/step - loss: 0.5981 - accuracy: 0.7953 - val_loss: 1.0882 - val_accuracy: 0.6510\n",
            "Epoch 20/25\n",
            "24/24 [==============================] - 9s 381ms/step - loss: 0.5369 - accuracy: 0.8083 - val_loss: 1.0103 - val_accuracy: 0.6354\n",
            "Epoch 21/25\n",
            "24/24 [==============================] - 10s 409ms/step - loss: 0.4854 - accuracy: 0.8110 - val_loss: 1.0969 - val_accuracy: 0.6615\n",
            "Epoch 22/25\n",
            "24/24 [==============================] - 10s 406ms/step - loss: 0.5025 - accuracy: 0.8357 - val_loss: 1.0166 - val_accuracy: 0.7031\n",
            "Epoch 23/25\n",
            "24/24 [==============================] - 10s 407ms/step - loss: 0.4235 - accuracy: 0.8581 - val_loss: 1.1016 - val_accuracy: 0.6615\n",
            "Epoch 24/25\n",
            "24/24 [==============================] - 9s 380ms/step - loss: 0.4160 - accuracy: 0.8462 - val_loss: 1.0869 - val_accuracy: 0.6458\n",
            "Epoch 25/25\n",
            "24/24 [==============================] - 8s 348ms/step - loss: 0.4125 - accuracy: 0.8435 - val_loss: 1.4472 - val_accuracy: 0.6094\n"
          ]
        }
      ]
    },
    {
      "cell_type": "code",
      "source": [
        "import matplotlib.pyplot as plt\n",
        "\n",
        "# Evaluate the model\n",
        "validation_loss, validation_accuracy = model.evaluate(validation_generator)\n",
        "print(f'Validation accuracy: {validation_accuracy*100:.2f}%')\n",
        "\n",
        "# Plot training history\n",
        "plt.plot(history.history['accuracy'], label='accuracy')\n",
        "plt.plot(history.history['val_accuracy'], label = 'val_accuracy')\n",
        "plt.xlabel('Epoch')\n",
        "plt.ylabel('Accuracy')\n",
        "plt.ylim([0, 1])\n",
        "plt.legend(loc='lower right')\n",
        "plt.show()"
      ],
      "metadata": {
        "colab": {
          "base_uri": "https://localhost:8080/",
          "height": 490
        },
        "id": "1SkEBblKCd26",
        "outputId": "653594c8-4cbd-43d2-dc13-2f99eac7df8e"
      },
      "execution_count": 10,
      "outputs": [
        {
          "output_type": "stream",
          "name": "stdout",
          "text": [
            "7/7 [==============================] - 3s 368ms/step - loss: 1.2820 - accuracy: 0.6546\n",
            "Validation accuracy: 65.46%\n"
          ]
        },
        {
          "output_type": "display_data",
          "data": {
            "text/plain": [
              "<Figure size 640x480 with 1 Axes>"
            ],
            "image/png": "[encoded data removed]"
          },
          "metadata": {}
        }
      ]
    },
    {
      "cell_type": "code",
      "source": [
        "import tensorflow as tf\n",
        "from tensorflow.keras.preprocessing.image import ImageDataGenerator\n",
        "import os\n",
        "\n",
        "# Set paths\n",
        "base_dir = '/content/padang.zip'\n",
        "extract_dir = '/content/padang'\n",
        "\n",
        "with zipfile.ZipFile(base_dir, 'r') as zip_ref:\n",
        "    zip_ref.extractall(extract_dir)\n",
        "\n",
        "# Parameters\n",
        "img_height, img_width = 150, 150\n",
        "batch_size = 32\n",
        "\n",
        "# Data augmentation and normalization\n",
        "train_datagen = ImageDataGenerator(\n",
        "    rescale=1./255,\n",
        "    shear_range=0.2,\n",
        "    zoom_range=0.2,\n",
        "    horizontal_flip=True,\n",
        "    validation_split=0.2)  # 20% validation split\n",
        "\n",
        "train_generator = train_datagen.flow_from_directory(\n",
        "    extract_dir,\n",
        "    target_size=(img_height, img_width),\n",
        "    batch_size=batch_size,\n",
        "    class_mode='categorical',\n",
        "    subset='training')  # Set as training data\n",
        "\n",
        "validation_generator = train_datagen.flow_from_directory(\n",
        "    extract_dir,\n",
        "    target_size=(img_height, img_width),\n",
        "    batch_size=batch_size,\n",
        "    class_mode='categorical',\n",
        "    subset='validation')  # Set as validation data"
      ],
      "metadata": {
        "colab": {
          "base_uri": "https://localhost:8080/"
        },
        "id": "qXI1C-cjCjvI",
        "outputId": "260a641b-f68b-4f40-82d9-36974c6a1690"
      },
      "execution_count": 15,
      "outputs": [
        {
          "output_type": "stream",
          "name": "stdout",
          "text": [
            "Found 795 images belonging to 1 classes.\n",
            "Found 198 images belonging to 1 classes.\n"
          ]
        }
      ]
    },
    {
      "cell_type": "code",
      "source": [
        "from tensorflow.keras.models import Sequential\n",
        "from tensorflow.keras.layers import Conv2D, MaxPooling2D, Flatten, Dense, Dropout\n",
        "\n",
        "model = Sequential([\n",
        "    Conv2D(32, (3, 3), activation='relu', input_shape=(img_height, img_width, 3)),\n",
        "    MaxPooling2D(pool_size=(2, 2)),\n",
        "\n",
        "    Conv2D(64, (3, 3), activation='relu'),\n",
        "    MaxPooling2D(pool_size=(2, 2)),\n",
        "\n",
        "    Conv2D(128, (3, 3), activation='relu'),\n",
        "    MaxPooling2D(pool_size=(2, 2)),\n",
        "\n",
        "    Flatten(),\n",
        "    Dense(512, activation='relu'),\n",
        "    Dropout(0.5),\n",
        "    Dense(train_generator.num_classes, activation='softmax')\n",
        "])\n",
        "\n",
        "model.compile(optimizer='adam',\n",
        "              loss='categorical_crossentropy',\n",
        "              metrics=['accuracy'])\n",
        "\n",
        "model.summary()"
      ],
      "metadata": {
        "colab": {
          "base_uri": "https://localhost:8080/"
        },
        "id": "j0i3qK3ECpt0",
        "outputId": "9320579f-fce3-49aa-d8f1-5aa33fea9dc9"
      },
      "execution_count": 16,
      "outputs": [
        {
          "output_type": "stream",
          "name": "stdout",
          "text": [
            "Model: \"sequential_1\"\n",
            "_________________________________________________________________\n",
            " Layer (type)                Output Shape              Param #   \n",
            "=================================================================\n",
            " conv2d_3 (Conv2D)           (None, 148, 148, 32)      896       \n",
            "                                                                 \n",
            " max_pooling2d_3 (MaxPoolin  (None, 74, 74, 32)        0         \n",
            " g2D)                                                            \n",
            "                                                                 \n",
            " conv2d_4 (Conv2D)           (None, 72, 72, 64)        18496     \n",
            "                                                                 \n",
            " max_pooling2d_4 (MaxPoolin  (None, 36, 36, 64)        0         \n",
            " g2D)                                                            \n",
            "                                                                 \n",
            " conv2d_5 (Conv2D)           (None, 34, 34, 128)       73856     \n",
            "                                                                 \n",
            " max_pooling2d_5 (MaxPoolin  (None, 17, 17, 128)       0         \n",
            " g2D)                                                            \n",
            "                                                                 \n",
            " flatten_1 (Flatten)         (None, 36992)             0         \n",
            "                                                                 \n",
            " dense_2 (Dense)             (None, 512)               18940416  \n",
            "                                                                 \n",
            " dropout_1 (Dropout)         (None, 512)               0         \n",
            "                                                                 \n",
            " dense_3 (Dense)             (None, 1)                 513       \n",
            "                                                                 \n",
            "=================================================================\n",
            "Total params: 19034177 (72.61 MB)\n",
            "Trainable params: 19034177 (72.61 MB)\n",
            "Non-trainable params: 0 (0.00 Byte)\n",
            "_________________________________________________________________\n"
          ]
        }
      ]
    },
    {
      "cell_type": "code",
      "source": [
        "epochs = 25\n",
        "\n",
        "history = model.fit(\n",
        "    train_generator,\n",
        "    steps_per_epoch=train_generator.samples // batch_size,\n",
        "    validation_data=validation_generator,\n",
        "    validation_steps=validation_generator.samples // batch_size,\n",
        "    epochs=epochs\n",
        ")"
      ],
      "metadata": {
        "colab": {
          "base_uri": "https://localhost:8080/"
        },
        "id": "MJmOh0lmDBrl",
        "outputId": "f7e6c9f7-7892-4c5b-eeca-7371ea5165d5"
      },
      "execution_count": 17,
      "outputs": [
        {
          "output_type": "stream",
          "name": "stdout",
          "text": [
            "Epoch 1/25\n"
          ]
        },
        {
          "output_type": "stream",
          "name": "stderr",
          "text": [
            "/usr/local/lib/python3.10/dist-packages/tensorflow/python/util/dispatch.py:1260: SyntaxWarning: In loss categorical_crossentropy, expected y_pred.shape to be (batch_size, num_classes) with num_classes > 1. Received: y_pred.shape=(None, 1). Consider using 'binary_crossentropy' if you only have 2 classes.\n",
            "  return dispatch_target(*args, **kwargs)\n"
          ]
        },
        {
          "output_type": "stream",
          "name": "stdout",
          "text": [
            "24/24 [==============================] - 12s 435ms/step - loss: 0.0000e+00 - accuracy: 1.0000 - val_loss: 0.0000e+00 - val_accuracy: 1.0000\n",
            "Epoch 2/25\n",
            "24/24 [==============================] - 10s 432ms/step - loss: 0.0000e+00 - accuracy: 1.0000 - val_loss: 0.0000e+00 - val_accuracy: 1.0000\n",
            "Epoch 3/25\n",
            "24/24 [==============================] - 11s 469ms/step - loss: 0.0000e+00 - accuracy: 1.0000 - val_loss: 0.0000e+00 - val_accuracy: 1.0000\n",
            "Epoch 4/25\n",
            "24/24 [==============================] - 9s 389ms/step - loss: 0.0000e+00 - accuracy: 1.0000 - val_loss: 0.0000e+00 - val_accuracy: 1.0000\n",
            "Epoch 5/25\n",
            "24/24 [==============================] - 8s 346ms/step - loss: 0.0000e+00 - accuracy: 1.0000 - val_loss: 0.0000e+00 - val_accuracy: 1.0000\n",
            "Epoch 6/25\n",
            "24/24 [==============================] - 9s 363ms/step - loss: 0.0000e+00 - accuracy: 1.0000 - val_loss: 0.0000e+00 - val_accuracy: 1.0000\n",
            "Epoch 7/25\n",
            "24/24 [==============================] - 10s 401ms/step - loss: 0.0000e+00 - accuracy: 1.0000 - val_loss: 0.0000e+00 - val_accuracy: 1.0000\n",
            "Epoch 8/25\n",
            "24/24 [==============================] - 10s 439ms/step - loss: 0.0000e+00 - accuracy: 1.0000 - val_loss: 0.0000e+00 - val_accuracy: 1.0000\n",
            "Epoch 9/25\n",
            "24/24 [==============================] - 8s 346ms/step - loss: 0.0000e+00 - accuracy: 1.0000 - val_loss: 0.0000e+00 - val_accuracy: 1.0000\n",
            "Epoch 10/25\n",
            "24/24 [==============================] - 10s 394ms/step - loss: 0.0000e+00 - accuracy: 1.0000 - val_loss: 0.0000e+00 - val_accuracy: 1.0000\n",
            "Epoch 11/25\n",
            "24/24 [==============================] - 10s 403ms/step - loss: 0.0000e+00 - accuracy: 1.0000 - val_loss: 0.0000e+00 - val_accuracy: 1.0000\n",
            "Epoch 12/25\n",
            "24/24 [==============================] - 9s 383ms/step - loss: 0.0000e+00 - accuracy: 1.0000 - val_loss: 0.0000e+00 - val_accuracy: 1.0000\n",
            "Epoch 13/25\n",
            "24/24 [==============================] - 8s 344ms/step - loss: 0.0000e+00 - accuracy: 1.0000 - val_loss: 0.0000e+00 - val_accuracy: 1.0000\n",
            "Epoch 14/25\n",
            "24/24 [==============================] - 10s 405ms/step - loss: 0.0000e+00 - accuracy: 1.0000 - val_loss: 0.0000e+00 - val_accuracy: 1.0000\n",
            "Epoch 15/25\n",
            "24/24 [==============================] - 10s 402ms/step - loss: 0.0000e+00 - accuracy: 1.0000 - val_loss: 0.0000e+00 - val_accuracy: 1.0000\n",
            "Epoch 16/25\n",
            "24/24 [==============================] - 9s 397ms/step - loss: 0.0000e+00 - accuracy: 1.0000 - val_loss: 0.0000e+00 - val_accuracy: 1.0000\n",
            "Epoch 17/25\n",
            "24/24 [==============================] - 9s 367ms/step - loss: 0.0000e+00 - accuracy: 1.0000 - val_loss: 0.0000e+00 - val_accuracy: 1.0000\n",
            "Epoch 18/25\n",
            "24/24 [==============================] - 10s 420ms/step - loss: 0.0000e+00 - accuracy: 1.0000 - val_loss: 0.0000e+00 - val_accuracy: 1.0000\n",
            "Epoch 19/25\n",
            "24/24 [==============================] - 11s 442ms/step - loss: 0.0000e+00 - accuracy: 1.0000 - val_loss: 0.0000e+00 - val_accuracy: 1.0000\n",
            "Epoch 20/25\n",
            "24/24 [==============================] - 10s 439ms/step - loss: 0.0000e+00 - accuracy: 1.0000 - val_loss: 0.0000e+00 - val_accuracy: 1.0000\n",
            "Epoch 21/25\n",
            "24/24 [==============================] - 8s 347ms/step - loss: 0.0000e+00 - accuracy: 1.0000 - val_loss: 0.0000e+00 - val_accuracy: 1.0000\n",
            "Epoch 22/25\n",
            "24/24 [==============================] - 10s 419ms/step - loss: 0.0000e+00 - accuracy: 1.0000 - val_loss: 0.0000e+00 - val_accuracy: 1.0000\n",
            "Epoch 23/25\n",
            "24/24 [==============================] - 10s 444ms/step - loss: 0.0000e+00 - accuracy: 1.0000 - val_loss: 0.0000e+00 - val_accuracy: 1.0000\n",
            "Epoch 24/25\n",
            "24/24 [==============================] - 10s 405ms/step - loss: 0.0000e+00 - accuracy: 1.0000 - val_loss: 0.0000e+00 - val_accuracy: 1.0000\n",
            "Epoch 25/25\n",
            "24/24 [==============================] - 9s 388ms/step - loss: 0.0000e+00 - accuracy: 1.0000 - val_loss: 0.0000e+00 - val_accuracy: 1.0000\n"
          ]
        }
      ]
    },
    {
      "cell_type": "code",
      "source": [
        "import matplotlib.pyplot as plt\n",
        "\n",
        "# Evaluate the model\n",
        "validation_loss, validation_accuracy = model.evaluate(validation_generator)\n",
        "print(f'Validation accuracy: {validation_accuracy*100:.2f}%')\n",
        "\n",
        "# Plot training history\n",
        "plt.plot(history.history['accuracy'], label='accuracy')\n",
        "plt.plot(history.history['val_accuracy'], label = 'val_accuracy')\n",
        "plt.xlabel('Epoch')\n",
        "plt.ylabel('Accuracy')\n",
        "plt.ylim([0, 1])\n",
        "plt.legend(loc='lower right')\n",
        "plt.show()"
      ],
      "metadata": {
        "colab": {
          "base_uri": "https://localhost:8080/",
          "height": 490
        },
        "id": "0CAcJzgRDEQh",
        "outputId": "db704e60-df4c-437a-98bf-efe46152fc00"
      },
      "execution_count": 18,
      "outputs": [
        {
          "output_type": "stream",
          "name": "stdout",
          "text": [
            "7/7 [==============================] - 2s 244ms/step - loss: 0.0000e+00 - accuracy: 1.0000\n",
            "Validation accuracy: 100.00%\n"
          ]
        },
        {
          "output_type": "display_data",
          "data": {
            "text/plain": [
              "<Figure size 640x480 with 1 Axes>"
            ],
            "image/png": "[encoded data removed]"
          },
          "metadata": {}
        }
      ]
    },
    {
      "cell_type": "code",
      "source": [
        "test_generator = train_datagen.flow_from_directory(\n",
        "    '/content/padang',\n",
        "    target_size=(img_height, img_width),\n",
        "    batch_size=batch_size,\n",
        "    class_mode='categorical'\n",
        ")\n",
        "\n",
        "test_loss, test_accuracy = model.evaluate(test_generator)\n",
        "print(f'Test accuracy: {test_accuracy*100:.2f}%')"
      ],
      "metadata": {
        "colab": {
          "base_uri": "https://localhost:8080/"
        },
        "id": "pXUyZ6ATK8Qg",
        "outputId": "239a9be5-58cb-41be-c477-8c30716e6604"
      },
      "execution_count": 21,
      "outputs": [
        {
          "output_type": "stream",
          "name": "stdout",
          "text": [
            "Found 993 images belonging to 1 classes.\n",
            "32/32 [==============================] - 10s 303ms/step - loss: 0.0000e+00 - accuracy: 1.0000\n",
            "Test accuracy: 100.00%\n"
          ]
        }
      ]
    }
  ]
}